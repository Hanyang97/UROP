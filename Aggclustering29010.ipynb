{
 "cells": [
  {
   "cell_type": "code",
   "execution_count": 11,
   "metadata": {},
   "outputs": [],
   "source": [
    "from sklearn.cluster import AgglomerativeClustering\n",
    "import numpy as np\n",
    "X = np.array([[-1, -2], [-1, -4]])\n",
    "clustering = AgglomerativeClustering(n_clusters=None, affinity='precomputed', linkage='average', distance_threshold=-0.1).fit(X)"
   ]
  },
  {
   "cell_type": "code",
   "execution_count": 1,
   "metadata": {},
   "outputs": [
    {
     "name": "stderr",
     "output_type": "stream",
     "text": [
      "/usr/local/lib/python3.6/dist-packages/statsmodels/tools/_testing.py:19: FutureWarning: pandas.util.testing is deprecated. Use the functions in the public API at pandas.testing instead.\n",
      "  import pandas.util.testing as tm\n"
     ]
    },
    {
     "ename": "IndentationError",
     "evalue": "unexpected indent (model.py, line 79)",
     "output_type": "error",
     "traceback": [
      "Traceback \u001b[0;36m(most recent call last)\u001b[0m:\n",
      "  File \u001b[1;32m\"/usr/local/lib/python3.6/dist-packages/IPython/core/interactiveshell.py\"\u001b[0m, line \u001b[1;32m3331\u001b[0m, in \u001b[1;35mrun_code\u001b[0m\n    exec(code_obj, self.user_global_ns, self.user_ns)\n",
      "\u001b[0;36m  File \u001b[0;32m\"<ipython-input-1-3c456d9961e3>\"\u001b[0;36m, line \u001b[0;32m8\u001b[0;36m, in \u001b[0;35m<module>\u001b[0;36m\u001b[0m\n\u001b[0;31m    from model import my_aggclustering\u001b[0m\n",
      "\u001b[0;36m  File \u001b[0;32m\"/home/clustor/ma/h/hl9618/urop/model.py\"\u001b[0;36m, line \u001b[0;32m79\u001b[0m\n\u001b[0;31m    sessions_list_next = []\u001b[0m\n\u001b[0m    ^\u001b[0m\n\u001b[0;31mIndentationError\u001b[0m\u001b[0;31m:\u001b[0m unexpected indent\n"
     ]
    }
   ],
   "source": [
    "import numpy as np\n",
    "import json\n",
    "import codecs\n",
    "import pandas as pd\n",
    "import seaborn as sns\n",
    "import matplotlib.pyplot as plt\n",
    "import pickle\n",
    "from model import my_aggclustering"
   ]
  },
  {
   "cell_type": "code",
   "execution_count": 2,
   "metadata": {},
   "outputs": [],
   "source": [
    "msdat_dir = '/home/hpms/Microsoft.IoT-Dump1.json'\n",
    "with codecs.open(msdat_dir, 'r', 'utf-8-sig') as f:\n",
    "    msdat = json.load(f)\n",
    "msdat = pd.DataFrame(msdat)\n",
    "msdat['Commands'] = [tuple(session) for session in msdat['Commands']]\n",
    "msdat = msdat.drop_duplicates(subset='Commands').reset_index(drop=True)  # drop duplicates\n",
    "msdat['Commands'] = [list(session) for session in msdat['Commands']]\n",
    "msdat['Commands Length'] = [len(session) for session in msdat['Commands']]\n",
    "msdat = msdat.sort_values(by='FirstSeen').reset_index(drop=True)"
   ]
  },
  {
   "cell_type": "code",
   "execution_count": 7,
   "metadata": {},
   "outputs": [],
   "source": [
    "def find_score(score_list, depth):\n",
    "    return np.mean([score[-1] if len(score)<depth else score[depth-1] for score in score_list])"
   ]
  },
  {
   "cell_type": "markdown",
   "metadata": {},
   "source": [
    "### Baseline\n",
    "\n",
    "$\\alpha_{cluster} = \\alpha_{label} = 0.1$,\n",
    "No clustering.\n",
    "12 length of sequence"
   ]
  },
  {
   "cell_type": "code",
   "execution_count": 3,
   "metadata": {},
   "outputs": [
    {
     "name": "stdout",
     "output_type": "stream",
     "text": [
      "Depth 0 started.\n",
      "Depth 0 finished. Time spent: 186.47s.\n"
     ]
    }
   ],
   "source": [
    "n_session = len(msdat)\n",
    "my_agg = my_aggclustering(msdat[:int(n_session*0.9)], 0.1, -1, 0.1, 1)\n",
    "my_agg.fit()\n",
    "with open('data/aggclustering2_9010_baseline.pkl', 'wb') as f:\n",
    "    pickle.dump(my_agg, f)"
   ]
  },
  {
   "cell_type": "code",
   "execution_count": 4,
   "metadata": {},
   "outputs": [],
   "source": [
    "with open('data/aggclustering2_9010_baseline.pkl', 'rb') as f:\n",
    "    my_agg = pickle.load(f)\n",
    "clustering = my_agg.memory['clustering']\n",
    "init_commands_lists = my_agg.memory['init_commands_lists']\n",
    "posterior_dicts = my_agg.memory['posterior_dicts']\n",
    "expected_predictive_prob = my_agg.memory['expected_predictive_prob']\n",
    "A_list = my_agg.memory['A_list']\n",
    "E_list = my_agg.memory['E_list']\n",
    "seq_rank_list = my_agg.memory['seq_rank_list']\n",
    "cluster_num = my_agg.memory['cluster_num']"
   ]
  },
  {
   "cell_type": "code",
   "execution_count": 5,
   "metadata": {},
   "outputs": [],
   "source": [
    "score_list = my_agg.predict(msdat[int(n_session*0.9):])"
   ]
  },
  {
   "cell_type": "code",
   "execution_count": 11,
   "metadata": {},
   "outputs": [
    {
     "name": "stdout",
     "output_type": "stream",
     "text": [
      "Average score for baseline is 0.28793.\n"
     ]
    }
   ],
   "source": [
    "print('Average score for baseline is {:.5f}.'.format(find_score(score_list, 1)))"
   ]
  },
  {
   "cell_type": "markdown",
   "metadata": {},
   "source": [
    "### First\n",
    "\n",
    "$\\alpha_{cluster} = \\alpha_{label} = 0.1$\n",
    "\n",
    "$Decision Threshold = 0.5$\n",
    "\n",
    "$Maximum Depth = 4$"
   ]
  },
  {
   "cell_type": "code",
   "execution_count": 4,
   "metadata": {},
   "outputs": [
    {
     "name": "stdout",
     "output_type": "stream",
     "text": [
      "Depth 0 started.\n",
      "Depth 0 finished. Time spent: 74.99s.\n",
      "Depth 1 started.\n",
      "Depth 1 finished. Time spent: 681.88s.\n",
      "Depth 2 started.\n",
      "Depth 2 finished. Time spent: 1120.08s.\n",
      "Depth 3 started.\n",
      "Depth 3 finished. Time spent: 1392.97s.\n"
     ]
    }
   ],
   "source": [
    "my_agg = my_aggclustering(msdat[:int(n_session*0.9)], 0.1, 0.5, 0.1, 4)\n",
    "my_agg.fit()\n",
    "with open('data/aggclustering2_9010.pkl', 'wb') as f:\n",
    "    pickle.dump(my_agg, f)"
   ]
  },
  {
   "cell_type": "code",
   "execution_count": 31,
   "metadata": {},
   "outputs": [],
   "source": [
    "with open('data/aggclustering2_9010.pkl', 'rb') as f:\n",
    "    my_agg = pickle.load(f)\n",
    "clustering = my_agg.memory['clustering']\n",
    "init_commands_lists = my_agg.memory['init_commands_lists']\n",
    "posterior_dicts = my_agg.memory['posterior_dicts']\n",
    "expected_predictive_prob = my_agg.memory['expected_predictive_prob']\n",
    "A_list = my_agg.memory['A_list']\n",
    "E_list = my_agg.memory['E_list']\n",
    "seq_rank_list = my_agg.memory['seq_rank_list']\n",
    "cluster_num = my_agg.memory['cluster_num']"
   ]
  },
  {
   "cell_type": "code",
   "execution_count": 13,
   "metadata": {},
   "outputs": [],
   "source": [
    "score_list = my_agg.predict(msdat[int(n_session*0.9):])"
   ]
  },
  {
   "cell_type": "code",
   "execution_count": 17,
   "metadata": {},
   "outputs": [
    {
     "name": "stdout",
     "output_type": "stream",
     "text": [
      "Average score for depth 0: 0.28989, depth 1: 0.44354, depth 2: 0.46997, depth 3: 0.49107, "
     ]
    }
   ],
   "source": [
    "print('Average score for ', end='')\n",
    "for depth in range(1,5):\n",
    "    print('depth {}: {:.5f},'.format(depth-1, find_score(score_list, depth)), end=' ')"
   ]
  },
  {
   "cell_type": "markdown",
   "metadata": {},
   "source": [
    "### Second\n",
    "\n",
    "$\\alpha_{cluster} = \\alpha_{label} = 0.01$\n",
    "\n",
    "$Decision Threshold = 0.5$\n",
    "\n",
    "$Maximum Depth = 4$"
   ]
  },
  {
   "cell_type": "code",
   "execution_count": 11,
   "metadata": {},
   "outputs": [
    {
     "name": "stdout",
     "output_type": "stream",
     "text": [
      "Depth 0 started.\n",
      "Depth 0 finished. Time spent: 67.86s.\n",
      "Depth 1 started.\n",
      "Depth 1 finished. Time spent: 558.24s.\n",
      "Depth 2 started.\n",
      "Depth 2 finished. Time spent: 891.77s.\n",
      "Depth 3 started.\n",
      "Depth 3 finished. Time spent: 1109.73s.\n"
     ]
    }
   ],
   "source": [
    "my_agg = my_aggclustering(msdat[:int(n_session*0.9)], 0.01, 0.5, 0.01, 4)\n",
    "my_agg.fit()\n",
    "with open('data/aggclustering2_9010_0.01.pkl', 'wb') as f:\n",
    "    pickle.dump(my_agg, f)"
   ]
  },
  {
   "cell_type": "code",
   "execution_count": 18,
   "metadata": {},
   "outputs": [],
   "source": [
    "with open('data/aggclustering2_9010_0.01.pkl', 'rb') as f:\n",
    "    my_agg = pickle.load(f)\n",
    "clustering = my_agg.memory['clustering']\n",
    "init_commands_lists = my_agg.memory['init_commands_lists']\n",
    "posterior_dicts = my_agg.memory['posterior_dicts']\n",
    "expected_predictive_prob = my_agg.memory['expected_predictive_prob']\n",
    "A_list = my_agg.memory['A_list']\n",
    "E_list = my_agg.memory['E_list']\n",
    "seq_rank_list = my_agg.memory['seq_rank_list']\n",
    "cluster_num = my_agg.memory['cluster_num']"
   ]
  },
  {
   "cell_type": "code",
   "execution_count": 19,
   "metadata": {},
   "outputs": [],
   "source": [
    "score_list = my_agg.predict(msdat[int(n_session*0.9):])"
   ]
  },
  {
   "cell_type": "code",
   "execution_count": 20,
   "metadata": {},
   "outputs": [
    {
     "name": "stdout",
     "output_type": "stream",
     "text": [
      "Average score for depth 0: 0.29089, depth 1: 0.44791, depth 2: 0.47500, depth 3: 0.49762, "
     ]
    }
   ],
   "source": [
    "print('Average score for ', end='')\n",
    "for depth in range(1,5):\n",
    "    print('depth {}: {:.5f},'.format(depth-1, find_score(score_list, depth)), end=' ')"
   ]
  },
  {
   "cell_type": "markdown",
   "metadata": {},
   "source": [
    "### Third\n",
    "\n",
    "$\\alpha_{cluster} = \\alpha_{label} = 1$\n",
    "\n",
    "$Decision Threshold = 0.5$\n",
    "\n",
    "$Maximum Depth = 4$"
   ]
  },
  {
   "cell_type": "code",
   "execution_count": 22,
   "metadata": {},
   "outputs": [
    {
     "name": "stdout",
     "output_type": "stream",
     "text": [
      "Depth 0 started.\n",
      "Depth 0 finished. Time spent: 62.08s.\n",
      "Depth 1 started.\n",
      "Depth 1 finished, no further depth required. Time spent: 518.35s.\n"
     ]
    }
   ],
   "source": [
    "my_agg = my_aggclustering(msdat[:int(n_session*0.9)], 1, 0.5, 1, 4)\n",
    "my_agg.fit()\n",
    "with open('data/aggclustering2_9010_1.pkl', 'wb') as f:\n",
    "    pickle.dump(my_agg, f)"
   ]
  },
  {
   "cell_type": "code",
   "execution_count": 23,
   "metadata": {},
   "outputs": [],
   "source": [
    "with open('data/aggclustering2_9010_1.pkl', 'rb') as f:\n",
    "    my_agg = pickle.load(f)\n",
    "clustering = my_agg.memory['clustering']\n",
    "init_commands_lists = my_agg.memory['init_commands_lists']\n",
    "posterior_dicts = my_agg.memory['posterior_dicts']\n",
    "expected_predictive_prob = my_agg.memory['expected_predictive_prob']\n",
    "A_list = my_agg.memory['A_list']\n",
    "E_list = my_agg.memory['E_list']\n",
    "seq_rank_list = my_agg.memory['seq_rank_list']\n",
    "cluster_num = my_agg.memory['cluster_num']"
   ]
  },
  {
   "cell_type": "code",
   "execution_count": 24,
   "metadata": {},
   "outputs": [],
   "source": [
    "score_list = my_agg.predict(msdat[int(n_session*0.9):])"
   ]
  },
  {
   "cell_type": "code",
   "execution_count": 25,
   "metadata": {},
   "outputs": [
    {
     "name": "stdout",
     "output_type": "stream",
     "text": [
      "Average score for depth 0: 0.28102, depth 1: 0.32444, depth 2: 0.32444, depth 3: 0.32444, "
     ]
    }
   ],
   "source": [
    "print('Average score for ', end='')\n",
    "for depth in range(1,5):\n",
    "    print('depth {}: {:.5f},'.format(depth-1, find_score(score_list, depth)), end=' ')"
   ]
  },
  {
   "cell_type": "markdown",
   "metadata": {},
   "source": [
    "### Fourth\n",
    "\n",
    "$\\alpha_{cluster} = \\alpha_{label} = 0.1$\n",
    "\n",
    "$Decision Threshold = 0.3$\n",
    "\n",
    "$Maximum Depth = 4$"
   ]
  },
  {
   "cell_type": "code",
   "execution_count": 26,
   "metadata": {},
   "outputs": [
    {
     "name": "stdout",
     "output_type": "stream",
     "text": [
      "Depth 0 started.\n",
      "Depth 0 finished. Time spent: 68.44s.\n",
      "Depth 1 started.\n",
      "Depth 1 finished. Time spent: 553.48s.\n",
      "Depth 2 started.\n",
      "Depth 2 finished. Time spent: 882.74s.\n",
      "Depth 3 started.\n",
      "Depth 3 finished. Time spent: 1096.25s.\n"
     ]
    }
   ],
   "source": [
    "my_agg = my_aggclustering(msdat[:int(n_session*0.9)], 0.1, 0.3, 0.1, 4)\n",
    "my_agg.fit()\n",
    "with open('data/aggclustering2_9010_0.3dt.pkl', 'wb') as f:\n",
    "    pickle.dump(my_agg, f)"
   ]
  },
  {
   "cell_type": "code",
   "execution_count": 27,
   "metadata": {},
   "outputs": [],
   "source": [
    "with open('data/aggclustering2_9010_0.3dt.pkl', 'rb') as f:\n",
    "    my_agg = pickle.load(f)\n",
    "clustering = my_agg.memory['clustering']\n",
    "init_commands_lists = my_agg.memory['init_commands_lists']\n",
    "posterior_dicts = my_agg.memory['posterior_dicts']\n",
    "expected_predictive_prob = my_agg.memory['expected_predictive_prob']\n",
    "A_list = my_agg.memory['A_list']\n",
    "E_list = my_agg.memory['E_list']\n",
    "seq_rank_list = my_agg.memory['seq_rank_list']\n",
    "cluster_num = my_agg.memory['cluster_num']"
   ]
  },
  {
   "cell_type": "code",
   "execution_count": 28,
   "metadata": {},
   "outputs": [],
   "source": [
    "score_list = my_agg.predict(msdat[int(n_session*0.9):])"
   ]
  },
  {
   "cell_type": "code",
   "execution_count": 29,
   "metadata": {},
   "outputs": [
    {
     "name": "stdout",
     "output_type": "stream",
     "text": [
      "Average score for depth 0: 0.28990, depth 1: 0.44326, depth 2: 0.46949, depth 3: 0.49079, "
     ]
    }
   ],
   "source": [
    "print('Average score for ', end='')\n",
    "for depth in range(1,5):\n",
    "    print('depth {}: {:.5f},'.format(depth-1, find_score(score_list, depth)), end=' ')"
   ]
  },
  {
   "cell_type": "markdown",
   "metadata": {},
   "source": [
    "### Fifth\n",
    "\n",
    "$\\alpha_{cluster} = \\alpha_{label} = 0.1$\n",
    "\n",
    "$Decision Threshold = 0.5$\n",
    "\n",
    "$Maximum Depth = 8$"
   ]
  },
  {
   "cell_type": "code",
   "execution_count": 33,
   "metadata": {},
   "outputs": [
    {
     "name": "stdout",
     "output_type": "stream",
     "text": [
      "Depth 0 started.\n",
      "Depth 0 finished. Time spent: 65.49s.\n",
      "Depth 1 started.\n",
      "Depth 1 finished. Time spent: 560.44s.\n",
      "Depth 2 started.\n",
      "Depth 2 finished. Time spent: 884.66s.\n",
      "Depth 3 started.\n",
      "Depth 3 finished. Time spent: 1090.74s.\n",
      "Depth 4 started.\n",
      "Depth 4 finished. Time spent: 1105.26s.\n",
      "Depth 5 started.\n",
      "Depth 5 finished. Time spent: 1814.51s.\n",
      "Depth 6 started.\n",
      "Depth 6 finished. Time spent: 2149.67s.\n",
      "Depth 7 started.\n",
      "Depth 7 finished. Time spent: 2153.78s.\n"
     ]
    }
   ],
   "source": [
    "my_agg = my_aggclustering(msdat[:int(n_session*0.9)], 0.1, 0.5, 0.1, 8)\n",
    "my_agg.fit()\n",
    "with open('data/aggclustering2_9010_8depth.pkl', 'wb') as f:\n",
    "    pickle.dump(my_agg, f)"
   ]
  },
  {
   "cell_type": "code",
   "execution_count": 34,
   "metadata": {},
   "outputs": [],
   "source": [
    "with open('data/aggclustering2_9010_8depth.pkl', 'rb') as f:\n",
    "    my_agg = pickle.load(f)\n",
    "clustering = my_agg.memory['clustering']\n",
    "init_commands_lists = my_agg.memory['init_commands_lists']\n",
    "posterior_dicts = my_agg.memory['posterior_dicts']\n",
    "expected_predictive_prob = my_agg.memory['expected_predictive_prob']\n",
    "A_list = my_agg.memory['A_list']\n",
    "E_list = my_agg.memory['E_list']\n",
    "seq_rank_list = my_agg.memory['seq_rank_list']\n",
    "cluster_num = my_agg.memory['cluster_num']"
   ]
  },
  {
   "cell_type": "code",
   "execution_count": 36,
   "metadata": {},
   "outputs": [],
   "source": [
    "score_list = my_agg.predict(msdat[int(n_session*0.9):])"
   ]
  },
  {
   "cell_type": "code",
   "execution_count": 38,
   "metadata": {},
   "outputs": [
    {
     "name": "stdout",
     "output_type": "stream",
     "text": [
      "Average score for depth 0: 0.28989, depth 1: 0.44354, depth 2: 0.46997, depth 3: 0.49107, depth 4: 0.49377, depth 5: 0.49923, depth 6: 0.49957, depth 7: 0.49984, "
     ]
    }
   ],
   "source": [
    "print('Average score for ', end='')\n",
    "for depth in range(1,9):\n",
    "    print('depth {}: {:.5f},'.format(depth-1, find_score(score_list, depth)), end=' ')"
   ]
  }
 ],
 "metadata": {
  "kernelspec": {
   "display_name": "Python 3",
   "language": "python",
   "name": "python3"
  },
  "language_info": {
   "codemirror_mode": {
    "name": "ipython",
    "version": 3
   },
   "file_extension": ".py",
   "mimetype": "text/x-python",
   "name": "python",
   "nbconvert_exporter": "python",
   "pygments_lexer": "ipython3",
   "version": "3.6.9"
  }
 },
 "nbformat": 4,
 "nbformat_minor": 4
}
