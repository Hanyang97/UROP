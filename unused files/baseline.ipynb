{
 "cells": [
  {
   "cell_type": "code",
   "execution_count": 1,
   "metadata": {},
   "outputs": [
    {
     "data": {
      "text/plain": [
       "86.40111111111112"
      ]
     },
     "execution_count": 1,
     "metadata": {},
     "output_type": "execute_result"
    }
   ],
   "source": [
    "(85.61+84.95*3+87.43*5)/9"
   ]
  },
  {
   "cell_type": "code",
   "execution_count": 2,
   "metadata": {},
   "outputs": [
    {
     "data": {
      "text/plain": [
       "87.12666666666667"
      ]
     },
     "execution_count": 2,
     "metadata": {},
     "output_type": "execute_result"
    }
   ],
   "source": [
    "(85.61+87.43*5)/6"
   ]
  },
  {
   "cell_type": "code",
   "execution_count": 4,
   "metadata": {},
   "outputs": [],
   "source": [
    "import numpy as np\n",
    "import json\n",
    "import codecs\n",
    "import pandas as pd\n",
    "from AgglomerativeClustering import my_baseline\n",
    "import pickle"
   ]
  },
  {
   "cell_type": "code",
   "execution_count": 2,
   "metadata": {},
   "outputs": [],
   "source": [
    "msdat_dir = '/home/hpms/Microsoft.IoT-Dump1.json'\n",
    "with codecs.open(msdat_dir, 'r', 'utf-8-sig') as f:\n",
    "    msdat = json.load(f)\n",
    "msdat = pd.DataFrame(msdat)\n",
    "msdat['Commands'] = [tuple(session) for session in msdat['Commands']]\n",
    "msdat = msdat.drop_duplicates(subset='Commands').reset_index(drop=True)  # drop duplicates\n",
    "msdat['Commands'] = [list(session) for session in msdat['Commands']]\n",
    "msdat['Commands Length'] = [len(session) for session in msdat['Commands']]"
   ]
  },
  {
   "cell_type": "code",
   "execution_count": 3,
   "metadata": {},
   "outputs": [
    {
     "name": "stdout",
     "output_type": "stream",
     "text": [
      "Round 1/10\n",
      "401 clusters completed, 33.29 seconds spent, train accuracy1.00, test accuracy0.81\n",
      "801 clusters completed, 39.57 seconds spent, train accuracy1.00, test accuracy0.75\n",
      "1201 clusters completed, 46.82 seconds spent, train accuracy1.00, test accuracy0.78\n",
      "1601 clusters completed, 53.65 seconds spent, train accuracy1.00, test accuracy0.80\n",
      "Round 1/10 completed, 1324.70 seconds spent, train accuracy0.98, test accuracy0.97\n",
      "Round 2/10\n",
      "401 clusters completed, 55.14 seconds spent, train accuracy1.00, test accuracy0.82\n",
      "801 clusters completed, 64.65 seconds spent, train accuracy1.00, test accuracy0.81\n",
      "1201 clusters completed, 74.39 seconds spent, train accuracy1.00, test accuracy0.81\n",
      "1601 clusters completed, 84.99 seconds spent, train accuracy1.00, test accuracy0.82\n",
      "Round 2/10 completed, 1778.92 seconds spent, train accuracy0.98, test accuracy0.97\n",
      "Round 3/10\n",
      "401 clusters completed, 55.29 seconds spent, train accuracy1.00, test accuracy0.78\n",
      "801 clusters completed, 65.47 seconds spent, train accuracy1.00, test accuracy0.78\n",
      "1201 clusters completed, 75.62 seconds spent, train accuracy1.00, test accuracy0.76\n",
      "1601 clusters completed, 86.68 seconds spent, train accuracy1.00, test accuracy0.77\n",
      "Round 3/10 completed, 1823.83 seconds spent, train accuracy0.98, test accuracy0.97\n",
      "Round 4/10\n",
      "401 clusters completed, 54.62 seconds spent, train accuracy1.00, test accuracy0.71\n",
      "801 clusters completed, 64.86 seconds spent, train accuracy1.00, test accuracy0.74\n",
      "1201 clusters completed, 74.86 seconds spent, train accuracy1.00, test accuracy0.70\n",
      "1601 clusters completed, 85.65 seconds spent, train accuracy1.00, test accuracy0.74\n",
      "Round 4/10 completed, 1820.47 seconds spent, train accuracy0.98, test accuracy0.97\n",
      "Round 5/10\n",
      "401 clusters completed, 54.09 seconds spent, train accuracy1.00, test accuracy0.80\n",
      "801 clusters completed, 64.26 seconds spent, train accuracy1.00, test accuracy0.82\n",
      "1201 clusters completed, 74.15 seconds spent, train accuracy1.00, test accuracy0.85\n",
      "1601 clusters completed, 84.74 seconds spent, train accuracy1.00, test accuracy0.86\n",
      "Round 5/10 completed, 1826.35 seconds spent, train accuracy0.98, test accuracy0.97\n",
      "Round 6/10\n",
      "401 clusters completed, 53.89 seconds spent, train accuracy1.00, test accuracy0.76\n",
      "801 clusters completed, 63.75 seconds spent, train accuracy1.00, test accuracy0.76\n",
      "1201 clusters completed, 73.81 seconds spent, train accuracy1.00, test accuracy0.76\n",
      "1601 clusters completed, 84.72 seconds spent, train accuracy1.00, test accuracy0.77\n",
      "Round 6/10 completed, 1734.65 seconds spent, train accuracy0.98, test accuracy0.97\n",
      "Round 7/10\n",
      "401 clusters completed, 50.57 seconds spent, train accuracy1.00, test accuracy0.70\n",
      "801 clusters completed, 59.91 seconds spent, train accuracy1.00, test accuracy0.78\n",
      "1201 clusters completed, 69.29 seconds spent, train accuracy1.00, test accuracy0.76\n",
      "1601 clusters completed, 79.91 seconds spent, train accuracy1.00, test accuracy0.77\n",
      "Round 7/10 completed, 1591.09 seconds spent, train accuracy0.98, test accuracy0.97\n",
      "Round 8/10\n",
      "401 clusters completed, 46.94 seconds spent, train accuracy1.00, test accuracy0.90\n",
      "801 clusters completed, 55.94 seconds spent, train accuracy1.00, test accuracy0.86\n",
      "1201 clusters completed, 64.98 seconds spent, train accuracy1.00, test accuracy0.81\n",
      "1601 clusters completed, 74.37 seconds spent, train accuracy1.00, test accuracy0.78\n",
      "Round 8/10 completed, 1562.80 seconds spent, train accuracy0.98, test accuracy0.97\n",
      "Round 9/10\n",
      "401 clusters completed, 46.66 seconds spent, train accuracy1.00, test accuracy0.75\n",
      "801 clusters completed, 55.80 seconds spent, train accuracy1.00, test accuracy0.79\n",
      "1201 clusters completed, 64.33 seconds spent, train accuracy1.00, test accuracy0.78\n",
      "1601 clusters completed, 73.40 seconds spent, train accuracy1.00, test accuracy0.80\n",
      "Round 9/10 completed, 1556.00 seconds spent, train accuracy0.98, test accuracy0.97\n",
      "Round 10/10\n",
      "401 clusters completed, 46.28 seconds spent, train accuracy1.00, test accuracy0.83\n",
      "801 clusters completed, 54.91 seconds spent, train accuracy1.00, test accuracy0.73\n",
      "1201 clusters completed, 63.86 seconds spent, train accuracy1.00, test accuracy0.76\n",
      "1601 clusters completed, 73.15 seconds spent, train accuracy1.00, test accuracy0.78\n",
      "Round 10/10 completed, 1550.67 seconds spent, train accuracy0.98, test accuracy0.97\n"
     ]
    },
    {
     "ename": "NameError",
     "evalue": "name 'pickle' is not defined",
     "output_type": "error",
     "traceback": [
      "\u001b[0;31m---------------------------------------------------------------------------\u001b[0m",
      "\u001b[0;31mNameError\u001b[0m                                 Traceback (most recent call last)",
      "\u001b[0;32m<ipython-input-3-3705f4fef146>\u001b[0m in \u001b[0;36m<module>\u001b[0;34m\u001b[0m\n\u001b[1;32m      7\u001b[0m \u001b[0mmemory\u001b[0m\u001b[0;34m[\u001b[0m\u001b[0;34m'init_len'\u001b[0m\u001b[0;34m]\u001b[0m\u001b[0;34m=\u001b[0m\u001b[0minit_len\u001b[0m\u001b[0;34m\u001b[0m\u001b[0;34m\u001b[0m\u001b[0m\n\u001b[1;32m      8\u001b[0m \u001b[0;32mwith\u001b[0m \u001b[0mopen\u001b[0m\u001b[0;34m(\u001b[0m\u001b[0;34m'data/baseline_memory.pkl'\u001b[0m\u001b[0;34m,\u001b[0m \u001b[0;34m'wb'\u001b[0m\u001b[0;34m)\u001b[0m \u001b[0;32mas\u001b[0m \u001b[0mf\u001b[0m\u001b[0;34m:\u001b[0m\u001b[0;34m\u001b[0m\u001b[0;34m\u001b[0m\u001b[0m\n\u001b[0;32m----> 9\u001b[0;31m     \u001b[0mpickle\u001b[0m\u001b[0;34m.\u001b[0m\u001b[0mdump\u001b[0m\u001b[0;34m(\u001b[0m\u001b[0mmemory\u001b[0m\u001b[0;34m,\u001b[0m \u001b[0mf\u001b[0m\u001b[0;34m)\u001b[0m\u001b[0;34m\u001b[0m\u001b[0;34m\u001b[0m\u001b[0m\n\u001b[0m",
      "\u001b[0;31mNameError\u001b[0m: name 'pickle' is not defined"
     ]
    }
   ],
   "source": [
    "n_splits=10\n",
    "seq_len=12\n",
    "init_len=1\n",
    "memory = my_baseline(msdat, n_splits, seq_len, init_len)\n",
    "memory['n_splits']=n_splits\n",
    "memory['seq_len']=seq_len\n",
    "memory['init_len']=init_len\n",
    "with open('data/baseline_memory.pkl', 'wb') as f:\n",
    "    pickle.dump(memory, f)"
   ]
  },
  {
   "cell_type": "code",
   "execution_count": 5,
   "metadata": {},
   "outputs": [],
   "source": [
    "with open('data/baseline_memory.pkl', 'wb') as f:\n",
    "    pickle.dump(memory, f)"
   ]
  },
  {
   "cell_type": "code",
   "execution_count": 8,
   "metadata": {},
   "outputs": [],
   "source": [
    "with open('data/baseline_memory.pkl', 'rb') as f:\n",
    "    memory = pickle.load(f)\n",
    "n_splits = memory['n_splits']\n",
    "seq_len = memory['seq_len']\n",
    "init_len = memory['init_len']\n",
    "acc_train_list = memory['acc_train_list'] \n",
    "acc_test_list = memory['acc_test_list'] \n",
    "total_train_list = memory['total_train_list'] \n",
    "total_test_list = memory['total_test_list'] \n",
    "init_commands_list = memory['init_commands_list']\n",
    "train_sessions_labels = memory['train_sessions_labels']\n",
    "test_sessions_labels = memory['test_sessions_labels']"
   ]
  },
  {
   "cell_type": "code",
   "execution_count": 9,
   "metadata": {},
   "outputs": [
    {
     "name": "stdout",
     "output_type": "stream",
     "text": [
      "10-fold train/test accuracy is 97.84%/97.11%\n"
     ]
    }
   ],
   "source": [
    "acc_train = sum([sum(i) for i in acc_train_list])/sum([sum(j) for j in total_train_list])\n",
    "acc_test = sum([sum(i) for i in acc_test_list])/sum([sum(j) for j in total_test_list])\n",
    "\n",
    "print('10-fold train/test accuracy is {:.2f}%/{:.2f}%'.format(acc_train*100, acc_test*100))"
   ]
  }
 ],
 "metadata": {
  "kernelspec": {
   "display_name": "Python 3",
   "language": "python",
   "name": "python3"
  },
  "language_info": {
   "codemirror_mode": {
    "name": "ipython",
    "version": 3
   },
   "file_extension": ".py",
   "mimetype": "text/x-python",
   "name": "python",
   "nbconvert_exporter": "python",
   "pygments_lexer": "ipython3",
   "version": "3.6.9"
  }
 },
 "nbformat": 4,
 "nbformat_minor": 4
}
